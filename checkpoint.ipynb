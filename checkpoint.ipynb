{
 "cells": [
  {
   "cell_type": "code",
   "execution_count": 15,
   "metadata": {
    "collapsed": true
   },
   "outputs": [],
   "source": [
    "import clustering as c\n",
    "import os\n",
    "samplePath_SOTAB = os.getcwd() + \"/datasets/open_data/test/\"\n",
    "groundtruth =  os.getcwd() + \"/datasets/open_data/gt_openData.csv\"\n",
    "a = c.data_classes(samplePath_SOTAB,groundtruth)"
   ]
  },
  {
   "cell_type": "code",
   "execution_count": 15,
   "outputs": [],
   "source": [],
   "metadata": {
    "collapsed": false
   }
  },
  {
   "cell_type": "code",
   "execution_count": 16,
   "outputs": [
    {
     "name": "stderr",
     "output_type": "stream",
     "text": [
      "/Users/user/My Drive/CurrentDataset/backup/lib/python3.10/site-packages/numpy/lib/histograms.py:883: RuntimeWarning: invalid value encountered in divide\n",
      "  return n/db/n.sum(), bin_edges\n",
      "/Users/user/My Drive/CurrentDataset/backup/lib/python3.10/site-packages/numpy/lib/histograms.py:883: RuntimeWarning: invalid value encountered in divide\n",
      "  return n/db/n.sum(), bin_edges\n",
      "/Users/user/My Drive/CurrentDataset/backup/lib/python3.10/site-packages/numpy/lib/histograms.py:883: RuntimeWarning: invalid value encountered in divide\n",
      "  return n/db/n.sum(), bin_edges\n",
      "/Users/user/My Drive/CurrentDataset/backup/lib/python3.10/site-packages/numpy/lib/histograms.py:883: RuntimeWarning: invalid value encountered in divide\n",
      "  return n/db/n.sum(), bin_edges\n",
      "/Users/user/My Drive/CurrentDataset/backup/lib/python3.10/site-packages/numpy/lib/histograms.py:883: RuntimeWarning: invalid value encountered in divide\n",
      "  return n/db/n.sum(), bin_edges\n",
      "/Users/user/My Drive/CurrentDataset/backup/lib/python3.10/site-packages/numpy/lib/histograms.py:883: RuntimeWarning: invalid value encountered in divide\n",
      "  return n/db/n.sum(), bin_edges\n",
      "/Users/user/My Drive/CurrentDataset/backup/lib/python3.10/site-packages/numpy/lib/histograms.py:883: RuntimeWarning: invalid value encountered in divide\n",
      "  return n/db/n.sum(), bin_edges\n",
      "/Users/user/My Drive/CurrentDataset/backup/lib/python3.10/site-packages/numpy/lib/histograms.py:883: RuntimeWarning: invalid value encountered in divide\n",
      "  return n/db/n.sum(), bin_edges\n",
      "/Users/user/My Drive/CurrentDataset/backup/lib/python3.10/site-packages/numpy/lib/histograms.py:883: RuntimeWarning: invalid value encountered in divide\n",
      "  return n/db/n.sum(), bin_edges\n",
      "/Users/user/My Drive/CurrentDataset/backup/lib/python3.10/site-packages/numpy/lib/histograms.py:883: RuntimeWarning: invalid value encountered in divide\n",
      "  return n/db/n.sum(), bin_edges\n",
      "/Users/user/My Drive/CurrentDataset/backup/lib/python3.10/site-packages/numpy/lib/histograms.py:883: RuntimeWarning: invalid value encountered in divide\n",
      "  return n/db/n.sum(), bin_edges\n",
      "/Users/user/My Drive/CurrentDataset/backup/lib/python3.10/site-packages/numpy/lib/histograms.py:883: RuntimeWarning: invalid value encountered in divide\n",
      "  return n/db/n.sum(), bin_edges\n",
      "/Users/user/My Drive/CurrentDataset/backup/lib/python3.10/site-packages/numpy/lib/histograms.py:883: RuntimeWarning: invalid value encountered in divide\n",
      "  return n/db/n.sum(), bin_edges\n",
      "/Users/user/My Drive/CurrentDataset/backup/lib/python3.10/site-packages/numpy/lib/histograms.py:883: RuntimeWarning: invalid value encountered in divide\n",
      "  return n/db/n.sum(), bin_edges\n",
      "/Users/user/My Drive/CurrentDataset/backup/lib/python3.10/site-packages/numpy/lib/histograms.py:883: RuntimeWarning: invalid value encountered in divide\n",
      "  return n/db/n.sum(), bin_edges\n",
      "/Users/user/My Drive/CurrentDataset/backup/lib/python3.10/site-packages/numpy/lib/histograms.py:883: RuntimeWarning: invalid value encountered in divide\n",
      "  return n/db/n.sum(), bin_edges\n",
      "/Users/user/My Drive/CurrentDataset/backup/lib/python3.10/site-packages/numpy/lib/histograms.py:883: RuntimeWarning: invalid value encountered in divide\n",
      "  return n/db/n.sum(), bin_edges\n",
      "/Users/user/My Drive/CurrentDataset/backup/lib/python3.10/site-packages/numpy/lib/histograms.py:883: RuntimeWarning: invalid value encountered in divide\n",
      "  return n/db/n.sum(), bin_edges\n",
      "<__array_function__ internals>:200: RuntimeWarning: Converting input from bool to <class 'numpy.uint8'> for compatibility.\n",
      "/Users/user/My Drive/CurrentDataset/backup/lib/python3.10/site-packages/numpy/lib/histograms.py:883: RuntimeWarning: invalid value encountered in divide\n",
      "  return n/db/n.sum(), bin_edges\n",
      "<__array_function__ internals>:200: RuntimeWarning: Converting input from bool to <class 'numpy.uint8'> for compatibility.\n",
      "<__array_function__ internals>:200: RuntimeWarning: Converting input from bool to <class 'numpy.uint8'> for compatibility.\n",
      "<__array_function__ internals>:200: RuntimeWarning: Converting input from bool to <class 'numpy.uint8'> for compatibility.\n",
      "/Users/user/My Drive/CurrentDataset/backup/lib/python3.10/site-packages/numpy/lib/histograms.py:883: RuntimeWarning: invalid value encountered in divide\n",
      "  return n/db/n.sum(), bin_edges\n",
      "/Users/user/My Drive/CurrentDataset/backup/lib/python3.10/site-packages/numpy/lib/histograms.py:883: RuntimeWarning: invalid value encountered in divide\n",
      "  return n/db/n.sum(), bin_edges\n",
      "/Users/user/My Drive/CurrentDataset/backup/lib/python3.10/site-packages/numpy/lib/histograms.py:883: RuntimeWarning: invalid value encountered in divide\n",
      "  return n/db/n.sum(), bin_edges\n",
      "/Users/user/My Drive/CurrentDataset/backup/lib/python3.10/site-packages/numpy/lib/histograms.py:883: RuntimeWarning: invalid value encountered in divide\n",
      "  return n/db/n.sum(), bin_edges\n",
      "/Users/user/My Drive/CurrentDataset/backup/lib/python3.10/site-packages/numpy/lib/histograms.py:883: RuntimeWarning: invalid value encountered in divide\n",
      "  return n/db/n.sum(), bin_edges\n",
      "/Users/user/My Drive/CurrentDataset/backup/lib/python3.10/site-packages/numpy/lib/histograms.py:883: RuntimeWarning: invalid value encountered in divide\n",
      "  return n/db/n.sum(), bin_edges\n",
      "<__array_function__ internals>:200: RuntimeWarning: Converting input from bool to <class 'numpy.uint8'> for compatibility.\n",
      "/Users/user/My Drive/CurrentDataset/backup/lib/python3.10/site-packages/numpy/lib/histograms.py:883: RuntimeWarning: invalid value encountered in divide\n",
      "  return n/db/n.sum(), bin_edges\n",
      "\n",
      "KeyboardInterrupt\n",
      "\n"
     ]
    }
   ],
   "source": [
    "Z,T = c.inputData(samplePath_SOTAB,10)\n",
    "print(len(a[0]),len(a[1]),len(a[2]))\n"
   ],
   "metadata": {
    "collapsed": false
   }
  },
  {
   "cell_type": "code",
   "execution_count": 12,
   "outputs": [
    {
     "name": "stdout",
     "output_type": "stream",
     "text": [
      "206 13\n"
     ]
    }
   ],
   "source": [
    "import clustering as c\n",
    "a = c.data_classes(samplePath_SOTAB,groundtruth)\n",
    "print(len(a[0]),len(a[2]))"
   ],
   "metadata": {
    "collapsed": false
   }
  },
  {
   "cell_type": "code",
   "execution_count": 15,
   "outputs": [],
   "source": [
    "\n",
    "parameters = c.gaussian_m_param_search(Z, len(a[2]))\n"
   ],
   "metadata": {
    "collapsed": false
   }
  },
  {
   "cell_type": "code",
   "execution_count": 16,
   "outputs": [],
   "source": [
    "clusters = c.cluster_discovery(parameters, T)"
   ],
   "metadata": {
    "collapsed": false
   }
  },
  {
   "cell_type": "code",
   "execution_count": 17,
   "outputs": [
    {
     "name": "stdout",
     "output_type": "stream",
     "text": [
      "{'MI': 0.14623373226005326, 'NMI': 0.08771730405288822, 'AMI': 0.02706072079157356, 'random score': 0.5196434466820733, 'ARI': 0.0035352421477074627, 'FMI': 0.22731435384396886, 'purity': 0.21794871794871795}\n"
     ]
    }
   ],
   "source": [
    "cluster_dict = c.cluster_Dict(clusters)\n",
    "metrics_value = c.evaluate_cluster(a[0], a[2], cluster_dict)\n",
    "print(metrics_value)"
   ],
   "metadata": {
    "collapsed": false
   }
  },
  {
   "cell_type": "code",
   "execution_count": 12,
   "outputs": [],
   "source": [
    "T = os.listdir(samplePath_SOTAB)\n",
    "tables = [file for file in T if file.endswith(\".csv\")]\n",
    "import pandas as pd\n",
    "for table_name in tables:\n",
    "    table = pd.read_csv(samplePath_SOTAB+table_name).iloc[:,0]\n",
    "    table.to_csv(samplePath_SOTAB+\"SubjectColumn/\"+table_name)\n"
   ],
   "metadata": {
    "collapsed": false
   }
  },
  {
   "cell_type": "code",
   "execution_count": null,
   "outputs": [],
   "source": [
    "import experiments as ex\n",
    "import clustering\n",
    "import os\n",
    "import pandas as pd\n",
    "data_path = os.getcwd()+\"/datasets/open_data/test/\"\n",
    "Z3, T3 = clustering.inputData(data_path)\n",
    "experimentName = \"opendata\"\n",
    "groundTruth = os.getcwd() + \"/datasets/open_data/gt_openData.csv\"\n",
    "targetpath = \"open_data_baseline/\"\n",
    "clustering_method = [\"GMM\", \"DBSCAN\", \"KMeans\", \"DBSCAN\", \"OPTICS\", \"BIRCH\", \"Agglomerative\"]  #\n",
    "methods_metrics = {}\n",
    "for method in clustering_method:\n",
    "        print(method)\n",
    "        metric_value_df = pd.DataFrame(columns=[\"MI\", \"NMI\", \"AMI\", \"random score\", \"ARI\", \"FMI\", \"purity\"])\n",
    "        ex.mkdir(os.getcwd() + \"/result/\" + method + \"/\" + targetpath + \"/\")\n",
    "        metric_dict = clustering.clustering_results(Z3, T3, data_path, groundTruth, method,\n",
    "                                                        os.getcwd() + \"/result/\" + method + \"/\" + targetpath + \"/\",\n",
    "                                                        experimentName )#+ str(i)\n",
    "        metric_df = pd.DataFrame([metric_dict])\n",
    "        metric_value_df = pd.concat([metric_value_df, metric_df])\n",
    "        print(metric_value_df)\n",
    "\n"
   ],
   "metadata": {
    "collapsed": false
   }
  },
  {
   "cell_type": "code",
   "execution_count": null,
   "outputs": [],
   "source": [],
   "metadata": {
    "collapsed": false
   }
  }
 ],
 "metadata": {
  "kernelspec": {
   "display_name": "Python 3",
   "language": "python",
   "name": "python3"
  },
  "language_info": {
   "codemirror_mode": {
    "name": "ipython",
    "version": 2
   },
   "file_extension": ".py",
   "mimetype": "text/x-python",
   "name": "python",
   "nbconvert_exporter": "python",
   "pygments_lexer": "ipython2",
   "version": "2.7.6"
  }
 },
 "nbformat": 4,
 "nbformat_minor": 0
}
