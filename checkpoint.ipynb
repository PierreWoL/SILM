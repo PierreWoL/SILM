{
 "cells": [
  {
   "cell_type": "code",
   "execution_count": 13,
   "metadata": {
    "collapsed": true
   },
   "outputs": [
    {
     "name": "stdout",
     "output_type": "stream",
     "text": [
      "                                            table_name      Label\n",
      "0     Book_1carpetcleaning.co.uk_September2020_CPA.csv       Book\n",
      "1            Book_247creative.de_September2020_CPA.csv       Book\n",
      "2                Book_7sat.co.uk_September2020_CPA.csv       Book\n",
      "3               Book_abebooks.de_September2020_CPA.csv       Book\n",
      "4          Book_act1diabetes.org_September2020_CPA.csv       Book\n",
      "...                                                ...        ...\n",
      "4765        TVEpisode_wakanim.tv_September2020_CPA.csv  TVEpisode\n",
      "4766  TVEpisode_watchfreenet.org_September2020_CPA.csv  TVEpisode\n",
      "4767   TVEpisode_watchseries.fyi_September2020_CPA.csv  TVEpisode\n",
      "4768     TVEpisode_zebrahead.org_September2020_CPA.csv  TVEpisode\n",
      "4769     TVEpisode_zoids-col.net_September2020_CPA.csv  TVEpisode\n",
      "\n",
      "[4770 rows x 2 columns]\n",
      "{'Book_1carpetcleaning.co.uk_September2020_CPA': 'Book', 'Book_247creative.de_September2020_CPA': 'Book', 'Book_7sat.co.uk_September2020_CPA': 'Book', 'Book_abebooks.de_September2020_CPA': 'Book', 'Book_act1diabetes.org_September2020_CPA': 'Book', 'Book_aionianbible.org_September2020_CPA': 'Book', 'Book_albertflynndesilver.com_September2020_CPA': 'Book', 'Book_allncertsolutions.com_September2020_CPA': 'Book', 'Book_americanabookstore.com_September2020_CPA': 'Book', 'Book_andrewisles.com_September2020_CPA': 'Book', 'Book_antiquariatbotanicum.com_September2020_CPA': 'Book', 'Book_archivesfinebooks.com.au_September2020_CPA': 'Book', 'Book_artforum.sk_September2020_CPA': 'Book', 'Book_asiabookroom.com_September2020_CPA': 'Book', 'Book_atlantavintagebooks.com_September2020_CPA': 'Book', 'Book_attorneylombardo.com_September2020_CPA': 'Book', 'Book_auth-e83.co.uk_September2020_CPA': 'Book', 'Book_autorenwelt.de_September2020_CPA': 'Book', 'Book_avalontravelbooks.com_September2020_CPA': 'Book', 'Book_babellibros.com_September2020_CPA': 'Book', 'Book_backintimerarebooks.com_September2020_CPA': 'Book', 'Book_balibrary.org_September2020_CPA': 'Book', 'Book_banneroftruth.org_September2020_CPA': 'Book', 'Book_bapeten.go.id_September2020_CPA': 'Book', 'Book_bartlebysbooks.com_September2020_CPA': 'Book', 'Book_bayoupublishing.com_September2020_CPA': 'Book', 'Book_belgiqueloisirs.be_September2020_CPA': 'Book', 'Book_belmont.wa.gov.au_September2020_CPA': 'Book', 'Book_isach.info_September2020_CPA': 'Book', 'Event_25tickets.com_September2020_CPA': 'Event', 'Event_313cafe.com_September2020_CPA': 'Event', 'Event_887theriver.ca_September2020_CPA': 'Event', 'Event_aaronjonahlewis.com_September2020_CPA': 'Event', 'Event_abconcerts.be_September2020_CPA': 'Event', 'Event_aboriginalbuzz.com_September2020_CPA': 'Event', 'Event_abundancenc.org_September2020_CPA': 'Event', 'Event_accessallareas.org_September2020_CPA': 'Event', 'Event_acchamber.com_September2020_CPA': 'Event', 'Event_acspower.com_September2020_CPA': 'Event', 'Event_activetrainingnetwork.com_September2020_CPA': 'Event', 'Event_actsonline.net_September2020_CPA': 'Event', 'Event_adaptmovement.org_September2020_CPA': 'Event', 'Event_adconserve.org_September2020_CPA': 'Event', 'Event_adelpartners.org_September2020_CPA': 'Event', 'Event_adelsheim.de_September2020_CPA': 'Event', 'Event_adjstyle.com_September2020_CPA': 'Event', 'Event_admraceway.ru_September2020_CPA': 'Event', 'Event_ammp.studio_September2020_CPA': 'Event', 'Event_anacortes.org_September2020_CPA': 'Event', 'Event_aneventapart.com_September2020_CPA': 'Event', 'Event_annmontgomery.com.au_September2020_CPA': 'Event', 'Event_anth.org.uk_September2020_CPA': 'Event', 'Event_apqs.com_September2020_CPA': 'Event', 'Event_aquilaboats.com_September2020_CPA': 'Event', 'Hotel_30bencoolen.com.sg_September2020_CPA': 'Hotel', 'Hotel_4holiday.ro_September2020_CPA': 'Hotel', 'Hotel_accommodationairliebeach.com_September2020_CPA': 'Hotel', 'Hotel_activtours.ro_September2020_CPA': 'Hotel', 'Hotel_agatur.ro_September2020_CPA': 'Hotel', 'Hotel_airantares.ro_September2020_CPA': 'Hotel', 'Hotel_airasiago.com.my_September2020_CPA': 'Hotel', 'Hotel_alilahotels.com_September2020_CPA': 'Hotel', 'Hotel_almatours.ro_September2020_CPA': 'Hotel', 'Hotel_andermatt.ch_September2020_CPA': 'Hotel', 'Hotel_anyplace.com_September2020_CPA': 'Hotel', 'Hotel_apartamentoselbarrio.com_September2020_CPA': 'Hotel', 'Hotel_apartmentsalantha.com_September2020_CPA': 'Hotel', 'Hotel_aquaaston.com_September2020_CPA': 'Hotel', 'Hotel_arbathotel.ru_September2020_CPA': 'Hotel', 'Hotel_arenahotels.com_September2020_CPA': 'Hotel', 'Hotel_asiapackagetravel.com_September2020_CPA': 'Hotel', 'Hotel_atlanticturism.com_September2020_CPA': 'Hotel', 'Hotel_azarotravel.ro_September2020_CPA': 'Hotel', 'Hotel_bamabeachhouses.com_September2020_CPA': 'Hotel', 'Hotel_beachesresortsparks.com_September2020_CPA': 'Hotel', 'Hotel_beaune-borgonha.com_September2020_CPA': 'Hotel', 'LocalBusiness_bicyclecapetown.org_September2020_CPA': 'LocalBusiness', 'LocalBusiness_bidmycrib.com_September2020_CPA': 'LocalBusiness', 'LocalBusiness_biharad.com_September2020_CPA': 'LocalBusiness', 'LocalBusiness_billighaandvaerker.dk_September2020_CPA': 'LocalBusiness', 'LocalBusiness_billingschamber.com_September2020_CPA': 'LocalBusiness', 'LocalBusiness_bilsyn.info_September2020_CPA': 'LocalBusiness', 'LocalBusiness_bingj.com_September2020_CPA': 'LocalBusiness', 'LocalBusiness_biznearu.com.au_September2020_CPA': 'LocalBusiness', 'LocalBusiness_blackforestgourmet.co.nz_September2020_CPA': 'LocalBusiness', 'LocalBusiness_blacknet.co.uk_September2020_CPA': 'LocalBusiness', 'LocalBusiness_blacktopit.com_September2020_CPA': 'LocalBusiness', 'LocalBusiness_blogto.com_September2020_CPA': 'LocalBusiness', 'Movie_1123movies.to_September2020_CPA': 'Movie', 'Movie_209.97.170.87_September2020_CPA': 'Movie', 'Movie_4688v6r.cn_September2020_CPA': 'Movie', 'Movie_aetv.com_September2020_CPA': 'Movie', 'Movie_anilist.co_September2020_CPA': 'Movie', 'Movie_anison.fm_September2020_CPA': 'Movie', 'Movie_anzflix.site_September2020_CPA': 'Movie', 'Movie_arrekade.com.br_September2020_CPA': 'Movie', 'Movie_aventrix.com_September2020_CPA': 'Movie', 'Movie_awardwinningadultmovies.com_September2020_CPA': 'Movie', 'Movie_awwrated.com_September2020_CPA': 'Movie', 'Movie_barnesandnoble.com_September2020_CPA': 'Movie', 'Movie_bcdb.com_September2020_CPA': 'Movie', 'Movie_bestnetflixmovies.com_September2020_CPA': 'Movie', 'Movie_bingedb.com_September2020_CPA': 'Movie', 'Movie_bioskopgratis21.pro_September2020_CPA': 'Movie', 'Movie_blackcinema.xyz_September2020_CPA': 'Movie', 'Movie_bollyviews.com_September2020_CPA': 'Movie', 'Movie_brwmovies.com_September2020_CPA': 'Movie', 'Movie_cartoon8.tv_September2020_CPA': 'Movie', 'Movie_cimaclubs.net_September2020_CPA': 'Movie', 'Movie_cinecitta.de_September2020_CPA': 'Movie', 'Movie_cinefun.co_September2020_CPA': 'Movie', 'Movie_cineleven.com_September2020_CPA': 'Movie', 'Movie_cineman.ch_September2020_CPA': 'Movie', 'Movie_cinemarumah21.com_September2020_CPA': 'Movie', 'Movie_cinemasmack.com_September2020_CPA': 'Movie', 'Movie_cinemoviestudio.com_September2020_CPA': 'Movie', 'Movie_cineol.net_September2020_CPA': 'Movie', 'Movie_cinerotic.net_September2020_CPA': 'Movie', 'Movie_coffeehousetv.org_September2020_CPA': 'Movie', 'Movie_corona21.online_September2020_CPA': 'Movie', 'Movie_criterion.com_September2020_CPA': 'Movie', 'Movie_criticker.com_September2020_CPA': 'Movie', 'Movie_dailymotionmovievids.com_September2020_CPA': 'Movie', 'Movie_disney.com_September2020_CPA': 'Movie', 'Movie_zurichlab.org_September2020_CPA': 'Movie', 'MusicAlbum_23rdprecinct.net_September2020_CPA': 'MusicAlbum', 'MusicAlbum_7s7.org_September2020_CPA': 'MusicAlbum', 'MusicAlbum_alldbx.ru_September2020_CPA': 'MusicAlbum', 'MusicAlbum_amdb.co_September2020_CPA': 'MusicAlbum', 'MusicAlbum_anjunabeats.com_September2020_CPA': 'MusicAlbum', 'MusicAlbum_aventrix.com_September2020_CPA': 'MusicAlbum', 'MusicAlbum_avishaicohen.com_September2020_CPA': 'MusicAlbum', 'MusicAlbum_awilshiremusic.com_September2020_CPA': 'MusicAlbum', 'MusicAlbum_bleep.com_September2020_CPA': 'MusicAlbum', 'MusicAlbum_celebri.com_September2020_CPA': 'MusicAlbum', 'MusicAlbum_club.be_September2020_CPA': 'MusicAlbum', 'MusicAlbum_deathbedtapes.com_September2020_CPA': 'MusicAlbum', 'MusicAlbum_djslimk.com_September2020_CPA': 'MusicAlbum', 'MusicAlbum_ellenmandel.com_September2020_CPA': 'MusicAlbum', 'MusicAlbum_esqmusic.com_September2020_CPA': 'MusicAlbum', 'MusicAlbum_harmoniamundi.com_September2020_CPA': 'MusicAlbum', 'MusicAlbum_herokuapp.com_September2020_CPA': 'MusicAlbum', 'MusicAlbum_hollowaytapes.com_September2020_CPA': 'MusicAlbum', 'MusicAlbum_jakeauerbachfilms.com_September2020_CPA': 'MusicAlbum', 'MusicAlbum_jamesnarrates.com_September2020_CPA': 'MusicAlbum', 'MusicAlbum_josephschwantner.com_September2020_CPA': 'MusicAlbum', 'MusicAlbum_kidzbites.com_September2020_CPA': 'MusicAlbum', 'MusicAlbum_lapanchitarecords.com_September2020_CPA': 'MusicAlbum', 'Person_erocam.biz_September2020_CPA': 'Person', 'Person_eroticgirlsme.com_September2020_CPA': 'Person', 'Person_escortsdirectoryeurope.com_September2020_CPA': 'Person', 'Person_familjesidan.se_September2020_CPA': 'Person', 'Person_famousdetails.com_September2020_CPA': 'Person', 'Person_fapchatz.com_September2020_CPA': 'Person', 'Person_fbref.com_September2020_CPA': 'Person', 'Person_fcs.k12.in.us_September2020_CPA': 'Person', 'Person_federatedinvestors.com_September2020_CPA': 'Person', 'Person_festival-cannes.com_September2020_CPA': 'Person', 'Person_fgould.com_September2020_CPA': 'Person', 'Person_finfeed.com_September2020_CPA': 'Person', 'Person_fitzpatrickreferrals.co.uk_September2020_CPA': 'Person', 'Person_fmbctx.com_September2020_CPA': 'Person', 'Person_forem.dev_September2020_CPA': 'Person', 'Person_free-123movies.com_September2020_CPA': 'Person', 'Person_free-putlockers.com_September2020_CPA': 'Person', 'Person_fruitlogistica.de_September2020_CPA': 'Person', 'Person_fussballtransfers.com_September2020_CPA': 'Person', 'Person_galleriacontinua.com_September2020_CPA': 'Person', 'Person_gametz.com_September2020_CPA': 'Person', 'Person_garrettinsurance.com_September2020_CPA': 'Person', 'Person_genealogieonline.nl_September2020_CPA': 'Person', 'Person_getfree.bet_September2020_CPA': 'Person', 'Person_ggraindustryconference.com_September2020_CPA': 'Person', 'Person_gibe.digital_September2020_CPA': 'Person', 'Person_glassatwork.co.uk_September2020_CPA': 'Person', 'Person_gli-sport.info_September2020_CPA': 'Person', 'Person_glueup.com_September2020_CPA': 'Person', 'Person_gomovies-online.me_September2020_CPA': 'Person', 'Place_afikomag.com_September2020_CPA': 'Place', 'Place_aiacincinnati.org_September2020_CPA': 'Place', 'Place_angelfireresort.com_September2020_CPA': 'Place', 'Place_animalleague.org_September2020_CPA': 'Place', 'Place_artsequator.com_September2020_CPA': 'Place', 'Place_asiaodyssey.com_September2020_CPA': 'Place', 'Place_asvas.ru_September2020_CPA': 'Place', 'Place_aucklandlive.co.nz_September2020_CPA': 'Place', 'Place_audubonparkgardens.com_September2020_CPA': 'Place', 'Place_barnsofrosehill.org_September2020_CPA': 'Place', 'Place_benitalia.com_September2020_CPA': 'Place', 'Place_berkeley.edu_September2020_CPA': 'Place', 'Place_betnow.eu_September2020_CPA': 'Place', 'Place_betterautorubber.com.au_September2020_CPA': 'Place', 'Place_beverly-hanks.com_September2020_CPA': 'Place', 'Place_bfloparks.org_September2020_CPA': 'Place', 'Place_blufftonsc.com_September2020_CPA': 'Place', 'Place_bnai-torah-colorado.org_September2020_CPA': 'Place', 'Place_capestylemag.com_September2020_CPA': 'Place', 'Place_charlestonjazz.com_September2020_CPA': 'Place', 'Recipe_anotherfoodblogger.com_September2020_CPA': 'Recipe', 'Recipe_artistinresidencehome.com_September2020_CPA': 'Recipe', 'Recipe_artofnaturalliving.com_September2020_CPA': 'Recipe', 'Recipe_atastefortravel.ca_September2020_CPA': 'Recipe', 'Recipe_audreyslittlefarm.com_September2020_CPA': 'Recipe', 'Recipe_auracacia.com_September2020_CPA': 'Recipe', 'Recipe_australianeggs.org.au_September2020_CPA': 'Recipe', 'Recipe_avengersinfinitywarfullmovie.de_September2020_CPA': 'Recipe', 'Recipe_avocadosfrommexico.com_September2020_CPA': 'Recipe', 'Recipe_awesomewithsprinkles.com_September2020_CPA': 'Recipe', 'Recipe_awickedwhisk.com_September2020_CPA': 'Recipe', 'Recipe_aziendanevola.it_September2020_CPA': 'Recipe', 'Recipe_azuniatequila.com_September2020_CPA': 'Recipe', 'Recipe_babyledweaningcookbook.com_September2020_CPA': 'Recipe', 'Recipe_babysavers.com_September2020_CPA': 'Recipe', 'Recipe_bakeitketo.com_September2020_CPA': 'Recipe', 'Recipe_bakingdom.com_September2020_CPA': 'Recipe', 'Recipe_ballarddesigns.com_September2020_CPA': 'Recipe', 'TVEpisode_pakistandramas.com_September2020_CPA': 'TVEpisode', 'TVEpisode_primewire.st_September2020_CPA': 'TVEpisode', 'TVEpisode_projectfreetv.press_September2020_CPA': 'TVEpisode', 'TVEpisode_putlockers1.cc_September2020_CPA': 'TVEpisode', 'TVEpisode_randydorn2008.com_September2020_CPA': 'TVEpisode', 'TVEpisode_showtv.com.tr_September2020_CPA': 'TVEpisode', 'TVEpisode_slaughterhousecam.com_September2020_CPA': 'TVEpisode', 'TVEpisode_solarmovies4u.com_September2020_CPA': 'TVEpisode', 'TVEpisode_stelizabethaiea.org_September2020_CPA': 'TVEpisode', 'TVEpisode_swatchseries.to_September2020_CPA': 'TVEpisode', 'TVEpisode_thevoiddeck.org_September2020_CPA': 'TVEpisode', 'TVEpisode_turktv.ru_September2020_CPA': 'TVEpisode', 'TVEpisode_umc.tv_September2020_CPA': 'TVEpisode', 'TVEpisode_wakanim.tv_September2020_CPA': 'TVEpisode', 'TVEpisode_watchfreenet.org_September2020_CPA': 'TVEpisode', 'TVEpisode_watchseries.fyi_September2020_CPA': 'TVEpisode', 'TVEpisode_zebrahead.org_September2020_CPA': 'TVEpisode', 'TVEpisode_zoids-col.net_September2020_CPA': 'TVEpisode'} {'Book': ['Book_1carpetcleaning.co.uk_September2020_CPA', 'Book_247creative.de_September2020_CPA', 'Book_7sat.co.uk_September2020_CPA', 'Book_abebooks.de_September2020_CPA', 'Book_act1diabetes.org_September2020_CPA', 'Book_aionianbible.org_September2020_CPA', 'Book_albertflynndesilver.com_September2020_CPA', 'Book_allncertsolutions.com_September2020_CPA', 'Book_americanabookstore.com_September2020_CPA', 'Book_andrewisles.com_September2020_CPA', 'Book_antiquariatbotanicum.com_September2020_CPA', 'Book_archivesfinebooks.com.au_September2020_CPA', 'Book_artforum.sk_September2020_CPA', 'Book_asiabookroom.com_September2020_CPA', 'Book_atlantavintagebooks.com_September2020_CPA', 'Book_attorneylombardo.com_September2020_CPA', 'Book_auth-e83.co.uk_September2020_CPA', 'Book_autorenwelt.de_September2020_CPA', 'Book_avalontravelbooks.com_September2020_CPA', 'Book_babellibros.com_September2020_CPA', 'Book_backintimerarebooks.com_September2020_CPA', 'Book_balibrary.org_September2020_CPA', 'Book_banneroftruth.org_September2020_CPA', 'Book_bapeten.go.id_September2020_CPA', 'Book_bartlebysbooks.com_September2020_CPA', 'Book_bayoupublishing.com_September2020_CPA', 'Book_belgiqueloisirs.be_September2020_CPA', 'Book_belmont.wa.gov.au_September2020_CPA', 'Book_isach.info_September2020_CPA'], 'Event': ['Event_25tickets.com_September2020_CPA', 'Event_313cafe.com_September2020_CPA', 'Event_887theriver.ca_September2020_CPA', 'Event_aaronjonahlewis.com_September2020_CPA', 'Event_abconcerts.be_September2020_CPA', 'Event_aboriginalbuzz.com_September2020_CPA', 'Event_abundancenc.org_September2020_CPA', 'Event_accessallareas.org_September2020_CPA', 'Event_acchamber.com_September2020_CPA', 'Event_acspower.com_September2020_CPA', 'Event_activetrainingnetwork.com_September2020_CPA', 'Event_actsonline.net_September2020_CPA', 'Event_adaptmovement.org_September2020_CPA', 'Event_adconserve.org_September2020_CPA', 'Event_adelpartners.org_September2020_CPA', 'Event_adelsheim.de_September2020_CPA', 'Event_adjstyle.com_September2020_CPA', 'Event_admraceway.ru_September2020_CPA', 'Event_ammp.studio_September2020_CPA', 'Event_anacortes.org_September2020_CPA', 'Event_aneventapart.com_September2020_CPA', 'Event_annmontgomery.com.au_September2020_CPA', 'Event_anth.org.uk_September2020_CPA', 'Event_apqs.com_September2020_CPA', 'Event_aquilaboats.com_September2020_CPA'], 'Hotel': ['Hotel_30bencoolen.com.sg_September2020_CPA', 'Hotel_4holiday.ro_September2020_CPA', 'Hotel_accommodationairliebeach.com_September2020_CPA', 'Hotel_activtours.ro_September2020_CPA', 'Hotel_agatur.ro_September2020_CPA', 'Hotel_airantares.ro_September2020_CPA', 'Hotel_airasiago.com.my_September2020_CPA', 'Hotel_alilahotels.com_September2020_CPA', 'Hotel_almatours.ro_September2020_CPA', 'Hotel_andermatt.ch_September2020_CPA', 'Hotel_anyplace.com_September2020_CPA', 'Hotel_apartamentoselbarrio.com_September2020_CPA', 'Hotel_apartmentsalantha.com_September2020_CPA', 'Hotel_aquaaston.com_September2020_CPA', 'Hotel_arbathotel.ru_September2020_CPA', 'Hotel_arenahotels.com_September2020_CPA', 'Hotel_asiapackagetravel.com_September2020_CPA', 'Hotel_atlanticturism.com_September2020_CPA', 'Hotel_azarotravel.ro_September2020_CPA', 'Hotel_bamabeachhouses.com_September2020_CPA', 'Hotel_beachesresortsparks.com_September2020_CPA', 'Hotel_beaune-borgonha.com_September2020_CPA'], 'LocalBusiness': ['LocalBusiness_bicyclecapetown.org_September2020_CPA', 'LocalBusiness_bidmycrib.com_September2020_CPA', 'LocalBusiness_biharad.com_September2020_CPA', 'LocalBusiness_billighaandvaerker.dk_September2020_CPA', 'LocalBusiness_billingschamber.com_September2020_CPA', 'LocalBusiness_bilsyn.info_September2020_CPA', 'LocalBusiness_bingj.com_September2020_CPA', 'LocalBusiness_biznearu.com.au_September2020_CPA', 'LocalBusiness_blackforestgourmet.co.nz_September2020_CPA', 'LocalBusiness_blacknet.co.uk_September2020_CPA', 'LocalBusiness_blacktopit.com_September2020_CPA', 'LocalBusiness_blogto.com_September2020_CPA'], 'Movie': ['Movie_1123movies.to_September2020_CPA', 'Movie_209.97.170.87_September2020_CPA', 'Movie_4688v6r.cn_September2020_CPA', 'Movie_aetv.com_September2020_CPA', 'Movie_anilist.co_September2020_CPA', 'Movie_anison.fm_September2020_CPA', 'Movie_anzflix.site_September2020_CPA', 'Movie_arrekade.com.br_September2020_CPA', 'Movie_aventrix.com_September2020_CPA', 'Movie_awardwinningadultmovies.com_September2020_CPA', 'Movie_awwrated.com_September2020_CPA', 'Movie_barnesandnoble.com_September2020_CPA', 'Movie_bcdb.com_September2020_CPA', 'Movie_bestnetflixmovies.com_September2020_CPA', 'Movie_bingedb.com_September2020_CPA', 'Movie_bioskopgratis21.pro_September2020_CPA', 'Movie_blackcinema.xyz_September2020_CPA', 'Movie_bollyviews.com_September2020_CPA', 'Movie_brwmovies.com_September2020_CPA', 'Movie_cartoon8.tv_September2020_CPA', 'Movie_cimaclubs.net_September2020_CPA', 'Movie_cinecitta.de_September2020_CPA', 'Movie_cinefun.co_September2020_CPA', 'Movie_cineleven.com_September2020_CPA', 'Movie_cineman.ch_September2020_CPA', 'Movie_cinemarumah21.com_September2020_CPA', 'Movie_cinemasmack.com_September2020_CPA', 'Movie_cinemoviestudio.com_September2020_CPA', 'Movie_cineol.net_September2020_CPA', 'Movie_cinerotic.net_September2020_CPA', 'Movie_coffeehousetv.org_September2020_CPA', 'Movie_corona21.online_September2020_CPA', 'Movie_criterion.com_September2020_CPA', 'Movie_criticker.com_September2020_CPA', 'Movie_dailymotionmovievids.com_September2020_CPA', 'Movie_disney.com_September2020_CPA', 'Movie_zurichlab.org_September2020_CPA'], 'MusicAlbum': ['MusicAlbum_23rdprecinct.net_September2020_CPA', 'MusicAlbum_7s7.org_September2020_CPA', 'MusicAlbum_alldbx.ru_September2020_CPA', 'MusicAlbum_amdb.co_September2020_CPA', 'MusicAlbum_anjunabeats.com_September2020_CPA', 'MusicAlbum_aventrix.com_September2020_CPA', 'MusicAlbum_avishaicohen.com_September2020_CPA', 'MusicAlbum_awilshiremusic.com_September2020_CPA', 'MusicAlbum_bleep.com_September2020_CPA', 'MusicAlbum_celebri.com_September2020_CPA', 'MusicAlbum_club.be_September2020_CPA', 'MusicAlbum_deathbedtapes.com_September2020_CPA', 'MusicAlbum_djslimk.com_September2020_CPA', 'MusicAlbum_ellenmandel.com_September2020_CPA', 'MusicAlbum_esqmusic.com_September2020_CPA', 'MusicAlbum_harmoniamundi.com_September2020_CPA', 'MusicAlbum_herokuapp.com_September2020_CPA', 'MusicAlbum_hollowaytapes.com_September2020_CPA', 'MusicAlbum_jakeauerbachfilms.com_September2020_CPA', 'MusicAlbum_jamesnarrates.com_September2020_CPA', 'MusicAlbum_josephschwantner.com_September2020_CPA', 'MusicAlbum_kidzbites.com_September2020_CPA', 'MusicAlbum_lapanchitarecords.com_September2020_CPA'], 'Person': ['Person_erocam.biz_September2020_CPA', 'Person_eroticgirlsme.com_September2020_CPA', 'Person_escortsdirectoryeurope.com_September2020_CPA', 'Person_familjesidan.se_September2020_CPA', 'Person_famousdetails.com_September2020_CPA', 'Person_fapchatz.com_September2020_CPA', 'Person_fbref.com_September2020_CPA', 'Person_fcs.k12.in.us_September2020_CPA', 'Person_federatedinvestors.com_September2020_CPA', 'Person_festival-cannes.com_September2020_CPA', 'Person_fgould.com_September2020_CPA', 'Person_finfeed.com_September2020_CPA', 'Person_fitzpatrickreferrals.co.uk_September2020_CPA', 'Person_fmbctx.com_September2020_CPA', 'Person_forem.dev_September2020_CPA', 'Person_free-123movies.com_September2020_CPA', 'Person_free-putlockers.com_September2020_CPA', 'Person_fruitlogistica.de_September2020_CPA', 'Person_fussballtransfers.com_September2020_CPA', 'Person_galleriacontinua.com_September2020_CPA', 'Person_gametz.com_September2020_CPA', 'Person_garrettinsurance.com_September2020_CPA', 'Person_genealogieonline.nl_September2020_CPA', 'Person_getfree.bet_September2020_CPA', 'Person_ggraindustryconference.com_September2020_CPA', 'Person_gibe.digital_September2020_CPA', 'Person_glassatwork.co.uk_September2020_CPA', 'Person_gli-sport.info_September2020_CPA', 'Person_glueup.com_September2020_CPA', 'Person_gomovies-online.me_September2020_CPA'], 'Place': ['Place_afikomag.com_September2020_CPA', 'Place_aiacincinnati.org_September2020_CPA', 'Place_angelfireresort.com_September2020_CPA', 'Place_animalleague.org_September2020_CPA', 'Place_artsequator.com_September2020_CPA', 'Place_asiaodyssey.com_September2020_CPA', 'Place_asvas.ru_September2020_CPA', 'Place_aucklandlive.co.nz_September2020_CPA', 'Place_audubonparkgardens.com_September2020_CPA', 'Place_barnsofrosehill.org_September2020_CPA', 'Place_benitalia.com_September2020_CPA', 'Place_berkeley.edu_September2020_CPA', 'Place_betnow.eu_September2020_CPA', 'Place_betterautorubber.com.au_September2020_CPA', 'Place_beverly-hanks.com_September2020_CPA', 'Place_bfloparks.org_September2020_CPA', 'Place_blufftonsc.com_September2020_CPA', 'Place_bnai-torah-colorado.org_September2020_CPA', 'Place_capestylemag.com_September2020_CPA', 'Place_charlestonjazz.com_September2020_CPA'], 'Recipe': ['Recipe_anotherfoodblogger.com_September2020_CPA', 'Recipe_artistinresidencehome.com_September2020_CPA', 'Recipe_artofnaturalliving.com_September2020_CPA', 'Recipe_atastefortravel.ca_September2020_CPA', 'Recipe_audreyslittlefarm.com_September2020_CPA', 'Recipe_auracacia.com_September2020_CPA', 'Recipe_australianeggs.org.au_September2020_CPA', 'Recipe_avengersinfinitywarfullmovie.de_September2020_CPA', 'Recipe_avocadosfrommexico.com_September2020_CPA', 'Recipe_awesomewithsprinkles.com_September2020_CPA', 'Recipe_awickedwhisk.com_September2020_CPA', 'Recipe_aziendanevola.it_September2020_CPA', 'Recipe_azuniatequila.com_September2020_CPA', 'Recipe_babyledweaningcookbook.com_September2020_CPA', 'Recipe_babysavers.com_September2020_CPA', 'Recipe_bakeitketo.com_September2020_CPA', 'Recipe_bakingdom.com_September2020_CPA', 'Recipe_ballarddesigns.com_September2020_CPA'], 'TVEpisode': ['TVEpisode_pakistandramas.com_September2020_CPA', 'TVEpisode_primewire.st_September2020_CPA', 'TVEpisode_projectfreetv.press_September2020_CPA', 'TVEpisode_putlockers1.cc_September2020_CPA', 'TVEpisode_randydorn2008.com_September2020_CPA', 'TVEpisode_showtv.com.tr_September2020_CPA', 'TVEpisode_slaughterhousecam.com_September2020_CPA', 'TVEpisode_solarmovies4u.com_September2020_CPA', 'TVEpisode_stelizabethaiea.org_September2020_CPA', 'TVEpisode_swatchseries.to_September2020_CPA', 'TVEpisode_thevoiddeck.org_September2020_CPA', 'TVEpisode_turktv.ru_September2020_CPA', 'TVEpisode_umc.tv_September2020_CPA', 'TVEpisode_wakanim.tv_September2020_CPA', 'TVEpisode_watchfreenet.org_September2020_CPA', 'TVEpisode_watchseries.fyi_September2020_CPA', 'TVEpisode_zebrahead.org_September2020_CPA', 'TVEpisode_zoids-col.net_September2020_CPA']} {'Book': 0, 'Event': 1, 'Hotel': 2, 'LocalBusiness': 3, 'Movie': 4, 'MusicAlbum': 5, 'Person': 6, 'Place': 7, 'Recipe': 8, 'TVEpisode': 9}\n"
     ]
    }
   ],
   "source": [
    "import clustering as c\n",
    "import os\n",
    "samplePath_SOTAB = os.getcwd() + \"/datasets/SOTAB/Table/Test/SubjectColumn/\"\n",
    "groundtruth =  os.getcwd() + \"/datasets/SOTAB/ground_truth.csv\"\n",
    "a = c.data_classes(samplePath_SOTAB,groundtruth)"
   ]
  },
  {
   "cell_type": "code",
   "execution_count": 14,
   "outputs": [
    {
     "name": "stderr",
     "output_type": "stream",
     "text": [
      "100%|██████████| 234/234 [00:00<00:00, 998.53it/s]\n",
      "100%|██████████| 234/234 [00:01<00:00, 203.26it/s]\n",
      "100%|██████████| 234/234 [00:00<00:00, 1520.87it/s]\n",
      "100%|██████████| 234/234 [00:00<00:00, 465.58it/s]\n"
     ]
    },
    {
     "name": "stdout",
     "output_type": "stream",
     "text": [
      "File exists. Use --overwrite to download anyway.\n",
      "Loading embeddings. This may take a few minutes ...\n"
     ]
    },
    {
     "name": "stderr",
     "output_type": "stream",
     "text": [
      "100%|██████████| 234/234 [00:00<00:00, 877.63it/s]\n",
      "/Users/user/My Drive/CurrentDataset/backup/lib/python3.10/site-packages/numpy/lib/histograms.py:883: RuntimeWarning: invalid value encountered in divide\n",
      "  return n/db/n.sum(), bin_edges\n",
      "/Users/user/My Drive/CurrentDataset/backup/lib/python3.10/site-packages/numpy/lib/histograms.py:883: RuntimeWarning: invalid value encountered in divide\n",
      "  return n/db/n.sum(), bin_edges\n"
     ]
    },
    {
     "name": "stdout",
     "output_type": "stream",
     "text": [
      "234 10 10\n"
     ]
    }
   ],
   "source": [
    "Z,T = c.inputData(samplePath_SOTAB)\n",
    "print(len(a[0]),len(a[1]),len(a[2]))\n"
   ],
   "metadata": {
    "collapsed": false
   }
  },
  {
   "cell_type": "code",
   "execution_count": 15,
   "outputs": [],
   "source": [
    "\n",
    "parameters = c.gaussian_m_param_search(Z, len(a[2]))\n"
   ],
   "metadata": {
    "collapsed": false
   }
  },
  {
   "cell_type": "code",
   "execution_count": 16,
   "outputs": [],
   "source": [
    "clusters = c.cluster_discovery(parameters, T)"
   ],
   "metadata": {
    "collapsed": false
   }
  },
  {
   "cell_type": "code",
   "execution_count": 17,
   "outputs": [
    {
     "name": "stdout",
     "output_type": "stream",
     "text": [
      "{'MI': 0.14623373226005326, 'NMI': 0.08771730405288822, 'AMI': 0.02706072079157356, 'random score': 0.5196434466820733, 'ARI': 0.0035352421477074627, 'FMI': 0.22731435384396886, 'purity': 0.21794871794871795}\n"
     ]
    }
   ],
   "source": [
    "cluster_dict = c.cluster_Dict(clusters)\n",
    "metrics_value = c.evaluate_cluster(a[0], a[2], cluster_dict)\n",
    "print(metrics_value)"
   ],
   "metadata": {
    "collapsed": false
   }
  },
  {
   "cell_type": "code",
   "execution_count": 12,
   "outputs": [],
   "source": [
    "T = os.listdir(samplePath_SOTAB)\n",
    "tables = [file for file in T if file.endswith(\".csv\")]\n",
    "import pandas as pd\n",
    "for table_name in tables:\n",
    "    table = pd.read_csv(samplePath_SOTAB+table_name).iloc[:,0]\n",
    "    table.to_csv(samplePath_SOTAB+\"SubjectColumn/\"+table_name)\n"
   ],
   "metadata": {
    "collapsed": false
   }
  },
  {
   "cell_type": "code",
   "execution_count": null,
   "outputs": [],
   "source": [
    "import experiments as ex\n",
    "import clustering\n",
    "import os\n",
    "import pandas as pd\n",
    "data_path = os.getcwd()+\"/datasets/SOTAB/Table/\"\n",
    "Z3, T3 = clustering.inputData(data_path)\n",
    "samplePath_SOTAB = os.getcwd() + \"/datasets/open_data/test/\"\n",
    "experimentName = \"opendata\"\n",
    "groundTruth = os.getcwd() + \"/datasets/open_data/gt_openData.csv\"\n",
    "targetpath = \"open_data_baseline/\"\n",
    "clustering_method = [\"GMM\", \"DBSCAN\", \"KMeans\", \"DBSCAN\", \"OPTICS\", \"BIRCH\", \"Agglomerative\"]  #\n",
    "methods_metrics = {}\n",
    "for method in clustering_method:\n",
    "        print(method)\n",
    "        metric_value_df = pd.DataFrame(columns=[\"MI\", \"NMI\", \"AMI\", \"random score\", \"ARI\", \"FMI\", \"purity\"])\n",
    "        ex.mkdir(os.getcwd() + \"/result/\" + method + \"/\" + targetpath + \"/\")\n",
    "        metric_dict = clustering.clustering_results(Z3, T3, data_path, groundTruth, method,\n",
    "                                                        os.getcwd() + \"/result/\" + method + \"/\" + targetpath + \"/\",\n",
    "                                                        experimentName )#+ str(i)\n",
    "        metric_df = pd.DataFrame([metric_dict])\n",
    "        metric_value_df = pd.concat([metric_value_df, metric_df])\n",
    "        print(metric_value_df)\n",
    "\n"
   ],
   "metadata": {
    "collapsed": false
   }
  },
  {
   "cell_type": "code",
   "execution_count": null,
   "outputs": [],
   "source": [],
   "metadata": {
    "collapsed": false
   }
  }
 ],
 "metadata": {
  "kernelspec": {
   "display_name": "Python 3",
   "language": "python",
   "name": "python3"
  },
  "language_info": {
   "codemirror_mode": {
    "name": "ipython",
    "version": 2
   },
   "file_extension": ".py",
   "mimetype": "text/x-python",
   "name": "python",
   "nbconvert_exporter": "python",
   "pygments_lexer": "ipython2",
   "version": "2.7.6"
  }
 },
 "nbformat": 4,
 "nbformat_minor": 0
}
